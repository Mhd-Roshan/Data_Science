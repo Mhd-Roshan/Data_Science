{
 "cells": [
  {
   "cell_type": "code",
   "execution_count": 3,
   "id": "973c1594-95d1-48ec-9b8c-7ab841ba5857",
   "metadata": {}, 
   "outputs": [
    {
     "name": "stdout",
     "output_type": "stream",
     "text": [
      "Matrix Operations\n",
      "Matrix A:\n",
      "[[1 2]\n",
      " [3 4]]\n",
      "Matrix B:\n",
      "[[5 6]\n",
      " [9 8]]\n",
      "Matrix addition :\n",
      " [[ 6  8]\n",
      " [12 12]]\n",
      "Matrix Substraction :\n",
      " [[4 4]\n",
      " [6 4]]\n",
      "Matrix Multiplication :\n",
      " [[23 22]\n",
      " [51 50]]\n",
      "Transpose :\n",
      " [[1 3]\n",
      " [2 4]]\n"
     ]
    }
   ],
   "source": [
    "import numpy as np\n",
    "\n",
    "A = np.array([[1,2],[3,4]])\n",
    "B = np.array([[5,6],[9,8]])\n",
    "print(\"Matrix Operations\")\n",
    "print(f\"Matrix A:\\n{A}\")\n",
    "print(f\"Matrix B:\\n{B}\")\n",
    "\n",
    "print(\"Matrix addition :\\n\",A + B)\n",
    "print(\"Matrix Substraction :\\n\",B - A)\n",
    "print(\"Matrix Multiplication :\\n\",np.dot(A,B))\n",
    "print(\"Transpose :\\n\",A.T)"
   ]
  },
  {
   "cell_type": "code",
   "execution_count": 1,
   "id": "366a768b-05d3-4ab5-bf00-0ba57179b3bf",
   "metadata": {},
   "outputs": [
    {
     "name": "stdout",
     "output_type": "stream",
     "text": [
      "original matrix:\n",
      "[[1 2 3]\n",
      " [4 5 6]\n",
      " [7 8 9]]\n",
      "\n",
      " reconstructed matrix(with  reduced dimensions):\n",
      "[[1. 2. 3.]\n",
      " [4. 5. 6.]\n",
      " [7. 8. 9.]]\n"
     ]
    }
   ],
   "source": [
    "import numpy as np\n",
    "X=np.array([[1,2,3],[4,5,6],[7,8,9]])\n",
    "U,S,VT=np.linalg.svd(X)\n",
    "n_components=2\n",
    "X_reconstructed=np.dot(U[:,:n_components],np.dot(np.diag(S[:n_components]),VT[:n_components,:]))\n",
    "print(\"original matrix:\")\n",
    "print(X)\n",
    "print(\"\\n reconstructed matrix(with  reduced dimensions):\")\n",
    "print(X_reconstructed)"
   ]
  },
  {
   "cell_type": "code",
   "execution_count": null,
   "id": "c302c4ca-529e-4fb7-896b-bcc6a1289e91",
   "metadata": {},
   "outputs": [],
   "source": []
  }
 ],
 "metadata": {
  "kernelspec": {
   "display_name": "Python 3 (ipykernel)",
   "language": "python",
   "name": "python3"
  },
  "language_info": {
   "codemirror_mode": {
    "name": "ipython",
    "version": 3
   },
   "file_extension": ".py",
   "mimetype": "text/x-python",
   "name": "python",
   "nbconvert_exporter": "python",
   "pygments_lexer": "ipython3",
   "version": "3.11.5"
  }
 },
 "nbformat": 4,
 "nbformat_minor": 5
}
